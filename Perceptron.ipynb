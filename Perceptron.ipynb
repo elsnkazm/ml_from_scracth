{
 "cells": [
  {
   "cell_type": "markdown",
   "metadata": {},
   "source": [
    "# Perceptron: Linear Classifier"
   ]
  },
  {
   "cell_type": "markdown",
   "metadata": {},
   "source": [
    "Perceptron is based on the 1943 model of neurons made by McCulloch and Pitts and by Hebb and it was developed by Rosenblatt in 1962. \n",
    "\n",
    "Linear separability is pre-condition for using this algorithm. If the given dataset is not linearly separable, then using perceptron algorithm will not give us result we want. This is Perceptron Algorithm:\n"
   ]
  },
  {
   "attachments": {
    "percep.PNG": {
     "image/png": "[encoded data removed]"
    }
   },
   "cell_type": "markdown",
   "metadata": {},
   "source": [
    "![percep.PNG](attachment:percep.PNG)"
   ]
  },
  {
   "cell_type": "markdown",
   "metadata": {},
   "source": [
    "Picture below shows how this model makes predictions. When we get value greater than 0, it means this observation belongs to positive class, otherwise, to negative class."
   ]
  },
  {
   "attachments": {
    "offs.PNG": {
     "image/png": "[encoded data removed]"
    }
   },
   "cell_type": "markdown",
   "metadata": {},
   "source": [
    "![offs.PNG](attachment:offs.PNG)"
   ]
  },
  {
   "cell_type": "markdown",
   "metadata": {},
   "source": [
    "In the Perceptron function we are trying to find thetas that will classify our datapoints correctly, and if statement inside for loop is for updating our thetas. Explanation:\n",
    "\n",
    "$y^{(i)} $ is the actual label for $i^{th}$ observation\n",
    "\n",
    "$\\theta^Tx^{(i)}+\\theta_0$ is the predicted class for $i^{th}$ observation\n",
    "\n",
    "When model classifies $i^{th}$ observation correctly, this expression will give us positive value and there will be no update in thetas. But if prediction is wrong, then thetas will be updated."
   ]
  },
  {
   "cell_type": "code",
   "execution_count": 1,
   "metadata": {},
   "outputs": [],
   "source": [
    "import numpy as np\n",
    "import seaborn as sns\n",
    "import matplotlib.pyplot as plt"
   ]
  },
  {
   "cell_type": "code",
   "execution_count": 2,
   "metadata": {},
   "outputs": [
    {
     "data": {
      "text/plain": [
       "array([[10, 25,  1],\n",
       "       [ 5,  7, -1],\n",
       "       [ 6, 15,  1],\n",
       "       [ 3,  2, -1],\n",
       "       [ 4, 14,  1],\n",
       "       [ 7,  6, -1],\n",
       "       [ 7, 16,  1],\n",
       "       [ 6,  5, -1],\n",
       "       [ 4,  6, -1],\n",
       "       [ 5, 17,  1]])"
      ]
     },
     "execution_count": 2,
     "metadata": {},
     "output_type": "execute_result"
    }
   ],
   "source": [
    "#our data\n",
    "data = np.array([[10,5,6,3,4,7,7,6,4,5],[25,7,15,2,14,6,16,5,6,17],[1,-1,1,-1,1,-1,1,-1,-1,1]]).T\n",
    "data"
   ]
  },
  {
   "cell_type": "code",
   "execution_count": 3,
   "metadata": {},
   "outputs": [
    {
     "data": {
      "text/plain": [
       "array([[10, 25],\n",
       "       [ 5,  7],\n",
       "       [ 6, 15],\n",
       "       [ 3,  2],\n",
       "       [ 4, 14],\n",
       "       [ 7,  6],\n",
       "       [ 7, 16],\n",
       "       [ 6,  5],\n",
       "       [ 4,  6],\n",
       "       [ 5, 17]])"
      ]
     },
     "execution_count": 3,
     "metadata": {},
     "output_type": "execute_result"
    }
   ],
   "source": [
    "#X variables\n",
    "X = data[:,:-1]\n",
    "X"
   ]
  },
  {
   "cell_type": "code",
   "execution_count": 4,
   "metadata": {},
   "outputs": [
    {
     "data": {
      "text/plain": [
       "array([ 1, -1,  1, -1,  1, -1,  1, -1, -1,  1])"
      ]
     },
     "execution_count": 4,
     "metadata": {},
     "output_type": "execute_result"
    }
   ],
   "source": [
    "#labels\n",
    "y = data[:,-1]\n",
    "y"
   ]
  },
  {
   "cell_type": "code",
   "execution_count": 5,
   "metadata": {},
   "outputs": [],
   "source": [
    "def perceptron(data, T=1):\n",
    "    '''\n",
    "     Parameters\n",
    "     ----------\n",
    "     data : ndarray\n",
    "        Dataset with X variables and labels\n",
    "     T : int\n",
    "        Number of iterations. Default is 1\n",
    "        \n",
    "     Returns\n",
    "     -----------\n",
    "     theta : ndarray\n",
    "         last recorded theta\n",
    "     theta_0 : ndarray\n",
    "         last recorded theta 0\n",
    "     recorded : list of ndarray-s\n",
    "         all values that thetas and theta 0 have got\n",
    "    '''\n",
    "    n,d = data[:,:-1].shape\n",
    "    X = data[:,:-1]\n",
    "    y = data[:,-1]\n",
    "    theta = np.zeros(shape=(d,1)).flatten()\n",
    "    theta_0 = np.array([0])\n",
    "    false_pred=0\n",
    "    recorded = []\n",
    "    for t in range(T):\n",
    "        for i in range(n):\n",
    "            a = theta.T@X[i]+theta_0\n",
    "            if y[i]*a <= 0:\n",
    "                theta=theta+X[i]*y[i]\n",
    "                theta_0=theta_0+y[i]\n",
    "                recorded.append((theta,theta_0))\n",
    "                \n",
    "            #Break loop if all observations predicted correctly\n",
    "            if no_wrong_pred(theta,theta_0):\n",
    "                break\n",
    "                \n",
    "    return theta,theta_0, recorded\n",
    "            "
   ]
  },
  {
   "cell_type": "markdown",
   "metadata": {},
   "source": [
    "<b>Note: </b> I will use thetas in 'recorded' to show progress of our algorithm"
   ]
  },
  {
   "cell_type": "code",
   "execution_count": 6,
   "metadata": {},
   "outputs": [],
   "source": [
    "def no_wrong_pred(theta,theta_0):\n",
    "    '''\n",
    "     Returns True if there is not any wrong prediction.\n",
    "    '''\n",
    "    wrong_pred=0\n",
    "    pred = theta.T@X.T+theta_0\n",
    "    for i in range(X.shape[0]):\n",
    "        if pred[i] > 0:\n",
    "            pred[i]=1\n",
    "        else:\n",
    "            pred[i]=-1\n",
    "        for i in range(X.shape[0]):\n",
    "            if pred[i]!=y[i]:\n",
    "                wrong_pred += 1\n",
    "    if wrong_pred==0:\n",
    "        return True"
   ]
  },
  {
   "cell_type": "markdown",
   "metadata": {},
   "source": [
    "We used $\\theta^{T}X+\\theta_0$ for making predictions. Then the equation for linear separator is $\\theta^{T}X+\\theta_0=0$. To make it simple we can rewrite it also as: $w_1x+w_2y+b=0$\n",
    "\n",
    "Then:\n",
    "\n",
    "$w_2y = -w_1x-b$\n",
    "\n",
    "$y = (-w_1/w_2)x - b/w_2$\n",
    "\n",
    "Now we can visualize our linear separator."
   ]
  },
  {
   "cell_type": "code",
   "execution_count": 7,
   "metadata": {},
   "outputs": [],
   "source": [
    "def plot(data,recorded,i):\n",
    "    '''\n",
    "     Plots data and linear separator\n",
    "     \n",
    "     Parameters\n",
    "     ----------\n",
    "     data : ndarray\n",
    "        Dataset with X variables and labels\n",
    "     recorded : list of ndarray-s\n",
    "        all values that thetas and theta 0 have got\n",
    "     i : int\n",
    "        index of thetas and theta 0-s in 'recorded' \n",
    "    '''\n",
    "    w1 = recorded[i][0][0]\n",
    "    w2 = recorded[i][0][1]\n",
    "    b = recorded[i][1][0]\n",
    "    sns.scatterplot(x= X[:,0],y=X[:,1],hue=y, palette=['blue','red'])\n",
    "    sns.lineplot(np.arange(np.max(X.shape[0])+4), (-w1/w2)*np.arange(np.max(X.shape[0])+4)-b/w2 ,color='orange')"
   ]
  },
  {
   "cell_type": "code",
   "execution_count": 8,
   "metadata": {},
   "outputs": [],
   "source": [
    "theta,theta_0, recorded = perceptron(data,T=15)"
   ]
  },
  {
   "cell_type": "code",
   "execution_count": 9,
   "metadata": {},
   "outputs": [
    {
     "data": {
      "text/plain": [
       "(array([-28.,  14.]), array([-8]))"
      ]
     },
     "execution_count": 9,
     "metadata": {},
     "output_type": "execute_result"
    }
   ],
   "source": [
    "# Optimal thetas\n",
    "theta, theta_0"
   ]
  },
  {
   "cell_type": "code",
   "execution_count": 10,
   "metadata": {},
   "outputs": [
    {
     "data": {
      "text/plain": [
       "16"
      ]
     },
     "execution_count": 10,
     "metadata": {},
     "output_type": "execute_result"
    }
   ],
   "source": [
    "# Number of all thetas recorded till finding optimal one\n",
    "len(recorded)"
   ]
  },
  {
   "cell_type": "markdown",
   "metadata": {},
   "source": [
    "#### Plotting progress of our Linear Classification Algorithm - Perceptron"
   ]
  },
  {
   "cell_type": "code",
   "execution_count": null,
   "metadata": {},
   "outputs": [],
   "source": [
    "sns.set_style('darkgrid')\n",
    "for i in range(len(recorded)):\n",
    "    plt.figure(i)\n",
    "    plot(data,recorded,i)"
   ]
  }
 ],
 "metadata": {
  "kernelspec": {
   "display_name": "Python 3",
   "language": "python",
   "name": "python3"
  },
  "language_info": {
   "codemirror_mode": {
    "name": "ipython",
    "version": 3
   },
   "file_extension": ".py",
   "mimetype": "text/x-python",
   "name": "python",
   "nbconvert_exporter": "python",
   "pygments_lexer": "ipython3",
   "version": "3.7.3"
  }
 },
 "nbformat": 4,
 "nbformat_minor": 4
}
